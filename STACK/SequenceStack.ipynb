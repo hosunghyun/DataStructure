{
 "cells": [
  {
   "cell_type": "code",
   "execution_count": 21,
   "metadata": {},
   "outputs": [],
   "source": [
    "class Stack:\n",
    "    def __init__(self):\n",
    "        self.STACK_SIZE = 100   # 스택의 최대크기\n",
    "        self.stack = [None] * self.STACK_SIZE   # 스택의 최대크기 만큼 배열 생성\n",
    "        self.top = 0    # top 생성\n",
    "    \n",
    "    def isEmpty(self):\n",
    "        if self.top == 0:   # top이 0이면 빈 스택이믈 True 반환\n",
    "            return True\n",
    "        return False\n",
    "    def isFull(self):\n",
    "        if self.top == self.STACK_SIZE:     # top이 스택의 최대크기랑 같으면 가득찬것이기 때문에 True 반환\n",
    "            return True\n",
    "        return False\n",
    "    def push(self, data):   \n",
    "        if self.isFull():   # 스택이 가득 찼는지 확인하고 가득 찼으면 아래 코드 실행\n",
    "            print(\"Stack is Full!\")\n",
    "            return;\n",
    "        self.stack[self.top] = data     # 스택이 가득차지 않았으므로 스택의 top위치에 data 삽입 \n",
    "        self.top = self.top + 1     # top은 1 증가\n",
    "        return\n",
    "    def pop(self):\n",
    "        if self.isEmpty():      # 스택이 비었는지 확인 비었으면 아래 코드 실행\n",
    "            print(\"Stack is Empty!\")\n",
    "            return -1;\n",
    "        self.top = self.top - 1     # 스택의 값을 가리키기 위해 1 감소\n",
    "        return self.stack[self.top]     # 스택의 top 위치 data 반환"
   ]
  },
  {
   "cell_type": "code",
   "execution_count": 23,
   "metadata": {},
   "outputs": [
    {
     "name": "stdout",
     "output_type": "stream",
     "text": [
      "30\n",
      "20\n",
      "10\n"
     ]
    }
   ],
   "source": [
    "## 메인 코드 부분 ##\n",
    "stack = Stack()\n",
    "stack.push(10)\n",
    "stack.push(20)\n",
    "stack.push(30)\n",
    "print(stack.pop())\n",
    "print(stack.pop())\n",
    "print(stack.pop())"
   ]
  }
 ],
 "metadata": {
  "kernelspec": {
   "display_name": "Python 3",
   "language": "python",
   "name": "python3"
  },
  "language_info": {
   "codemirror_mode": {
    "name": "ipython",
    "version": 3
   },
   "file_extension": ".py",
   "mimetype": "text/x-python",
   "name": "python",
   "nbconvert_exporter": "python",
   "pygments_lexer": "ipython3",
   "version": "3.12.4"
  }
 },
 "nbformat": 4,
 "nbformat_minor": 2
}
