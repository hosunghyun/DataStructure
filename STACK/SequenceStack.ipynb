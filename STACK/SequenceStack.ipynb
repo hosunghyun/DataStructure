{
 "cells": [
  {
   "cell_type": "code",
   "execution_count": 21,
   "metadata": {},
   "outputs": [],
   "source": [
    "class Stack:\n",
    "    def __init__(self):\n",
    "        self.STACK_SIZE = 100\n",
    "        self.stack = [None] * self.STACK_SIZE\n",
    "        self.top = 0\n",
    "    \n",
    "    def isEmpty(self):\n",
    "        if self.top == 0:\n",
    "            return True\n",
    "        return False\n",
    "    def isFull(self):\n",
    "        if self.top == self.STACK_SIZE:\n",
    "            return True\n",
    "        return False\n",
    "    def push(self, data):\n",
    "        if self.isFull():\n",
    "            print(\"Stack is Full!\")\n",
    "            return;\n",
    "        self.stack[self.top] = data\n",
    "        self.top = self.top + 1\n",
    "        return\n",
    "    def pop(self):\n",
    "        if self.isEmpty():\n",
    "            print(\"Stack is Empty!\")\n",
    "            return -1;\n",
    "        self.top = self.top - 1\n",
    "        return self.stack[self.top]"
   ]
  },
  {
   "cell_type": "code",
   "execution_count": 23,
   "metadata": {},
   "outputs": [
    {
     "name": "stdout",
     "output_type": "stream",
     "text": [
      "30\n",
      "20\n",
      "10\n"
     ]
    }
   ],
   "source": [
    "## 메인 코드 부분 ##\n",
    "stack = Stack()\n",
    "stack.push(10)\n",
    "stack.push(20)\n",
    "stack.push(30)\n",
    "print(stack.pop())\n",
    "print(stack.pop())\n",
    "print(stack.pop())"
   ]
  }
 ],
 "metadata": {
  "kernelspec": {
   "display_name": "Python 3",
   "language": "python",
   "name": "python3"
  },
  "language_info": {
   "codemirror_mode": {
    "name": "ipython",
    "version": 3
   },
   "file_extension": ".py",
   "mimetype": "text/x-python",
   "name": "python",
   "nbconvert_exporter": "python",
   "pygments_lexer": "ipython3",
   "version": "3.12.4"
  }
 },
 "nbformat": 4,
 "nbformat_minor": 2
}
