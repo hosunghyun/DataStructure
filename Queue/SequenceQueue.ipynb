{
 "cells": [
  {
   "cell_type": "code",
   "execution_count": 2,
   "metadata": {},
   "outputs": [],
   "source": [
    "class Queue:\n",
    "    def __init__(self):\n",
    "        self.QUEUE_SIZE = 10\n",
    "        self.front = 0\n",
    "        self.rear = 0\n",
    "        self.count = 0\n",
    "        self.queue = [None] * self.QUEUE_SIZE\n",
    "        return\n",
    "    def isEmpty(self):\n",
    "        if self.count == 0:\n",
    "            return True\n",
    "        return False\n",
    "    def isFull(self):\n",
    "        if self.count == self.QUEUE_SIZE:\n",
    "            return True\n",
    "        return False\n",
    "    def enQueue(self, data):\n",
    "        if self.isFull():\n",
    "            print(\"Queue is Full!\")\n",
    "            return\n",
    "        self.queue[self.rear] = data\n",
    "        self.rear = (self.rear + 1) % self.QUEUE_SIZE\n",
    "        self.count = self.count + 1\n",
    "        return\n",
    "    def deQueue(self):\n",
    "        if self.isEmpty():\n",
    "            print(\"Queue is Empty!\")\n",
    "            return\n",
    "        data = self.queue[self.front]\n",
    "        self.front = (self.front +1) % self.QUEUE_SIZE\n",
    "        return data"
   ]
  },
  {
   "cell_type": "code",
   "execution_count": 4,
   "metadata": {},
   "outputs": [
    {
     "name": "stdout",
     "output_type": "stream",
     "text": [
      "10\n",
      "20\n",
      "30\n"
     ]
    }
   ],
   "source": [
    "q = Queue()\n",
    "q.enQueue(10)\n",
    "q.enQueue(20)\n",
    "q.enQueue(30)\n",
    "print(q.deQueue())\n",
    "print(q.deQueue())\n",
    "print(q.deQueue())"
   ]
  }
 ],
 "metadata": {
  "kernelspec": {
   "display_name": "Python 3",
   "language": "python",
   "name": "python3"
  },
  "language_info": {
   "codemirror_mode": {
    "name": "ipython",
    "version": 3
   },
   "file_extension": ".py",
   "mimetype": "text/x-python",
   "name": "python",
   "nbconvert_exporter": "python",
   "pygments_lexer": "ipython3",
   "version": "3.12.4"
  }
 },
 "nbformat": 4,
 "nbformat_minor": 2
}
